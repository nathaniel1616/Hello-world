{
 "cells": [
  {
   "cell_type": "code",
   "execution_count": 12,
   "id": "synthetic-sympathy",
   "metadata": {},
   "outputs": [],
   "source": [
    "import tensorflow as tf"
   ]
  },
  {
   "cell_type": "code",
   "execution_count": 4,
   "id": "wound-crack",
   "metadata": {},
   "outputs": [
    {
     "name": "stdout",
     "output_type": "stream",
     "text": [
      "Epoch 1/5\n",
      "1875/1875 [==============================] - 5s 3ms/step - loss: 0.4923 - accuracy: 0.8268\n",
      "Epoch 2/5\n",
      "1875/1875 [==============================] - 4s 2ms/step - loss: 0.3705 - accuracy: 0.8662\n",
      "Epoch 3/5\n",
      "1875/1875 [==============================] - 4s 2ms/step - loss: 0.3349 - accuracy: 0.8779\n",
      "Epoch 4/5\n",
      "1875/1875 [==============================] - 4s 2ms/step - loss: 0.3109 - accuracy: 0.8855\n",
      "Epoch 5/5\n",
      "1875/1875 [==============================] - 4s 2ms/step - loss: 0.2960 - accuracy: 0.8900\n",
      "Model: \"sequential_3\"\n",
      "_________________________________________________________________\n",
      "Layer (type)                 Output Shape              Param #   \n",
      "=================================================================\n",
      "flatten_3 (Flatten)          (32, 784)                 0         \n",
      "_________________________________________________________________\n",
      "dense_6 (Dense)              (32, 128)                 100480    \n",
      "_________________________________________________________________\n",
      "dense_7 (Dense)              (32, 10)                  1290      \n",
      "=================================================================\n",
      "Total params: 101,770\n",
      "Trainable params: 101,770\n",
      "Non-trainable params: 0\n",
      "_________________________________________________________________\n",
      "313/313 [==============================] - 1s 2ms/step - loss: 0.3448 - accuracy: 0.8764\n"
     ]
    }
   ],
   "source": [
    "import tensorflow as tf\n",
    "mnist = tf.keras.datasets.fashion_mnist\n",
    "(training_images, training_labels), (test_images, test_labels) = mnist.load_data()\n",
    "training_images=training_images / 255.0\n",
    "test_images=test_images / 255.0\n",
    "model = tf.keras.models.Sequential([\n",
    "  tf.keras.layers.Flatten(),\n",
    "  tf.keras.layers.Dense(128, activation=tf.nn.relu),\n",
    "  tf.keras.layers.Dense(10, activation=tf.nn.softmax)\n",
    "])\n",
    "\n",
    "model.compile(optimizer='adam', loss='sparse_categorical_crossentropy', metrics=['accuracy'])\n",
    "\n",
    "model.fit(training_images, training_labels, epochs=5)\n",
    "\n",
    "model.summary()\n",
    "\n",
    "test_loss = model.evaluate(test_images, test_labels)"
   ]
  },
  {
   "cell_type": "code",
   "execution_count": null,
   "id": "certified-programming",
   "metadata": {},
   "outputs": [],
   "source": []
  },
  {
   "cell_type": "code",
   "execution_count": 9,
   "id": "manufactured-links",
   "metadata": {},
   "outputs": [
    {
     "data": {
      "text/plain": [
       "array([[0.99551106, 0.88007417, 0.024961  ],\n",
       "       [0.50865243, 0.12528539, 0.49668566],\n",
       "       [0.09954009, 0.05576537, 0.39284623],\n",
       "       [0.81208555, 0.67268694, 0.96817689]])"
      ]
     },
     "execution_count": 9,
     "metadata": {},
     "output_type": "execute_result"
    }
   ],
   "source": [
    "a = np.random.randn(3,2)\n",
    "b = np.random.rand(4,3)\n",
    "np.vstack(b)"
   ]
  },
  {
   "cell_type": "code",
   "execution_count": 4,
   "id": "proper-mozambique",
   "metadata": {},
   "outputs": [
    {
     "name": "stdout",
     "output_type": "stream",
     "text": [
      "Epoch 1/600\n",
      "1875/1875 [==============================] - 5s 3ms/step - loss: 0.4854 - accuracy: 0.8266\n",
      "Epoch 2/600\n",
      "1875/1875 [==============================] - 5s 2ms/step - loss: 0.3606 - accuracy: 0.8676\n",
      "Epoch 3/600\n",
      "1875/1875 [==============================] - 5s 3ms/step - loss: 0.3270 - accuracy: 0.8793\n",
      "Epoch 4/600\n",
      "1875/1875 [==============================] - 5s 2ms/step - loss: 0.3039 - accuracy: 0.8880\n",
      "Epoch 5/600\n",
      "1875/1875 [==============================] - 5s 3ms/step - loss: 0.2866 - accuracy: 0.8926\n",
      "Epoch 6/600\n",
      "1875/1875 [==============================] - 5s 2ms/step - loss: 0.2757 - accuracy: 0.8963\n",
      "Epoch 7/600\n",
      "1875/1875 [==============================] - 5s 3ms/step - loss: 0.2608 - accuracy: 0.9019\n",
      "Epoch 8/600\n",
      "1875/1875 [==============================] - 5s 3ms/step - loss: 0.2487 - accuracy: 0.9069\n",
      "Epoch 9/600\n",
      "1875/1875 [==============================] - 5s 3ms/step - loss: 0.2413 - accuracy: 0.9082\n",
      "Epoch 10/600\n",
      "1875/1875 [==============================] - 5s 3ms/step - loss: 0.2288 - accuracy: 0.9125\n",
      "Epoch 11/600\n",
      "1875/1875 [==============================] - 5s 3ms/step - loss: 0.2228 - accuracy: 0.9161\n",
      "Epoch 12/600\n",
      "1875/1875 [==============================] - 5s 3ms/step - loss: 0.2169 - accuracy: 0.9172\n",
      "Epoch 13/600\n",
      "1875/1875 [==============================] - 5s 3ms/step - loss: 0.2074 - accuracy: 0.9210\n",
      "Epoch 14/600\n",
      "1875/1875 [==============================] - 5s 3ms/step - loss: 0.2027 - accuracy: 0.9222\n",
      "Epoch 15/600\n",
      "1875/1875 [==============================] - 5s 3ms/step - loss: 0.1951 - accuracy: 0.9258\n",
      "Epoch 16/600\n",
      "1875/1875 [==============================] - 5s 3ms/step - loss: 0.1898 - accuracy: 0.9279\n",
      "Epoch 17/600\n",
      "1875/1875 [==============================] - 5s 3ms/step - loss: 0.1844 - accuracy: 0.9292\n",
      "Epoch 18/600\n",
      "1875/1875 [==============================] - 5s 3ms/step - loss: 0.1798 - accuracy: 0.9299\n",
      "Epoch 19/600\n",
      "1875/1875 [==============================] - 5s 3ms/step - loss: 0.1753 - accuracy: 0.9326\n",
      "Epoch 20/600\n",
      "1875/1875 [==============================] - 5s 3ms/step - loss: 0.1681 - accuracy: 0.9354\n",
      "Epoch 21/600\n",
      "1875/1875 [==============================] - 5s 3ms/step - loss: 0.1661 - accuracy: 0.9361\n",
      "Epoch 22/600\n",
      "1875/1875 [==============================] - 5s 3ms/step - loss: 0.1599 - accuracy: 0.9381\n",
      "Epoch 23/600\n",
      "1875/1875 [==============================] - 5s 3ms/step - loss: 0.1546 - accuracy: 0.9405\n",
      "Epoch 24/600\n",
      "1875/1875 [==============================] - 5s 3ms/step - loss: 0.1531 - accuracy: 0.9408\n",
      "Epoch 25/600\n",
      "1875/1875 [==============================] - 5s 3ms/step - loss: 0.1469 - accuracy: 0.9439\n",
      "Epoch 26/600\n",
      "1875/1875 [==============================] - 5s 3ms/step - loss: 0.1428 - accuracy: 0.9441\n",
      "Epoch 27/600\n",
      "1875/1875 [==============================] - 5s 3ms/step - loss: 0.1388 - accuracy: 0.9463\n",
      "Epoch 28/600\n",
      "1875/1875 [==============================] - 5s 3ms/step - loss: 0.1364 - accuracy: 0.9469\n",
      "Epoch 29/600\n",
      "1875/1875 [==============================] - 5s 3ms/step - loss: 0.1342 - accuracy: 0.9485\n",
      "Epoch 30/600\n",
      "1875/1875 [==============================] - 5s 3ms/step - loss: 0.1314 - accuracy: 0.9492\n",
      "Epoch 31/600\n",
      "1875/1875 [==============================] - 5s 3ms/step - loss: 0.1280 - accuracy: 0.9525\n",
      "Epoch 32/600\n",
      "1875/1875 [==============================] - 5s 3ms/step - loss: 0.1264 - accuracy: 0.9510\n",
      "Epoch 33/600\n",
      "1875/1875 [==============================] - 5s 3ms/step - loss: 0.1233 - accuracy: 0.9528\n",
      "Epoch 34/600\n",
      "1875/1875 [==============================] - 5s 3ms/step - loss: 0.1192 - accuracy: 0.9551\n",
      "Epoch 35/600\n",
      "1875/1875 [==============================] - 5s 3ms/step - loss: 0.1179 - accuracy: 0.9551\n",
      "Epoch 36/600\n",
      "1875/1875 [==============================] - 5s 3ms/step - loss: 0.1145 - accuracy: 0.9559\n",
      "Epoch 37/600\n",
      "1875/1875 [==============================] - 5s 3ms/step - loss: 0.1135 - accuracy: 0.9561\n",
      "Epoch 38/600\n",
      "1875/1875 [==============================] - 5s 3ms/step - loss: 0.1105 - accuracy: 0.9584\n",
      "Epoch 39/600\n",
      "1875/1875 [==============================] - 5s 3ms/step - loss: 0.1116 - accuracy: 0.9573\n",
      "Epoch 40/600\n",
      "1875/1875 [==============================] - 5s 3ms/step - loss: 0.1067 - accuracy: 0.9588\n",
      "Epoch 41/600\n",
      "1875/1875 [==============================] - 5s 3ms/step - loss: 0.1043 - accuracy: 0.9592\n",
      "Epoch 42/600\n",
      "1875/1875 [==============================] - 5s 3ms/step - loss: 0.1022 - accuracy: 0.9609\n",
      "Epoch 43/600\n",
      "1875/1875 [==============================] - 5s 3ms/step - loss: 0.1013 - accuracy: 0.9617\n",
      "Epoch 44/600\n",
      "1875/1875 [==============================] - 5s 3ms/step - loss: 0.0999 - accuracy: 0.9622\n",
      "Epoch 45/600\n",
      "1875/1875 [==============================] - 5s 3ms/step - loss: 0.0992 - accuracy: 0.9620\n",
      "Epoch 46/600\n",
      "1875/1875 [==============================] - 5s 3ms/step - loss: 0.0943 - accuracy: 0.9635\n",
      "Epoch 47/600\n",
      "1875/1875 [==============================] - 5s 3ms/step - loss: 0.0975 - accuracy: 0.9628\n",
      "Epoch 48/600\n",
      "1875/1875 [==============================] - 5s 3ms/step - loss: 0.0934 - accuracy: 0.9640\n",
      "Epoch 49/600\n",
      "1875/1875 [==============================] - ETA: 0s - loss: 0.0916 - accuracy: 0.96 - 5s 3ms/step - loss: 0.0915 - accuracy: 0.9651\n",
      "Epoch 50/600\n",
      "1875/1875 [==============================] - 5s 3ms/step - loss: 0.0913 - accuracy: 0.9659\n",
      "Epoch 51/600\n",
      "1875/1875 [==============================] - 5s 3ms/step - loss: 0.0857 - accuracy: 0.9671\n",
      "Epoch 52/600\n",
      "1875/1875 [==============================] - 5s 3ms/step - loss: 0.0852 - accuracy: 0.9675\n",
      "Epoch 53/600\n",
      "1875/1875 [==============================] - 5s 3ms/step - loss: 0.0895 - accuracy: 0.9663\n",
      "Epoch 54/600\n",
      "1875/1875 [==============================] - 5s 3ms/step - loss: 0.0795 - accuracy: 0.9694\n",
      "Epoch 55/600\n",
      "1875/1875 [==============================] - 5s 3ms/step - loss: 0.0832 - accuracy: 0.9676\n",
      "Epoch 56/600\n",
      "1875/1875 [==============================] - 5s 3ms/step - loss: 0.0814 - accuracy: 0.9687\n",
      "Epoch 57/600\n",
      "1875/1875 [==============================] - 5s 3ms/step - loss: 0.0814 - accuracy: 0.9687\n",
      "Epoch 58/600\n",
      "1875/1875 [==============================] - 5s 3ms/step - loss: 0.0779 - accuracy: 0.9695\n",
      "Epoch 59/600\n",
      "1875/1875 [==============================] - 5s 3ms/step - loss: 0.0785 - accuracy: 0.9698\n",
      "Epoch 60/600\n",
      "1875/1875 [==============================] - 5s 3ms/step - loss: 0.0759 - accuracy: 0.9709\n",
      "Epoch 61/600\n",
      "1875/1875 [==============================] - 5s 3ms/step - loss: 0.0750 - accuracy: 0.9707\n",
      "Epoch 62/600\n",
      " 734/1875 [==========>...................] - ETA: 3s - loss: 0.0709 - accuracy: 0.9728"
     ]
    },
    {
     "ename": "KeyboardInterrupt",
     "evalue": "",
     "output_type": "error",
     "traceback": [
      "\u001b[1;31m---------------------------------------------------------------------------\u001b[0m",
      "\u001b[1;31mKeyboardInterrupt\u001b[0m                         Traceback (most recent call last)",
      "\u001b[1;32m<ipython-input-4-e12520d2b583>\u001b[0m in \u001b[0;36m<module>\u001b[1;34m\u001b[0m\n\u001b[0;32m     16\u001b[0m \u001b[0mcallback\u001b[0m \u001b[1;33m=\u001b[0m \u001b[0mmycallbacks\u001b[0m\u001b[1;33m(\u001b[0m\u001b[1;33m)\u001b[0m\u001b[1;33m\u001b[0m\u001b[1;33m\u001b[0m\u001b[0m\n\u001b[0;32m     17\u001b[0m \u001b[0mmodel\u001b[0m\u001b[1;33m.\u001b[0m\u001b[0mcompile\u001b[0m\u001b[1;33m(\u001b[0m\u001b[0moptimizer\u001b[0m\u001b[1;33m=\u001b[0m\u001b[1;34m'adam'\u001b[0m\u001b[1;33m,\u001b[0m \u001b[0mloss\u001b[0m \u001b[1;33m=\u001b[0m \u001b[1;34m'sparse_categorical_crossentropy'\u001b[0m \u001b[1;33m,\u001b[0m \u001b[0mmetrics\u001b[0m\u001b[1;33m=\u001b[0m\u001b[1;33m[\u001b[0m\u001b[1;34m'accuracy'\u001b[0m\u001b[1;33m]\u001b[0m\u001b[1;33m)\u001b[0m\u001b[1;33m\u001b[0m\u001b[1;33m\u001b[0m\u001b[0m\n\u001b[1;32m---> 18\u001b[1;33m \u001b[0mmodel\u001b[0m\u001b[1;33m.\u001b[0m\u001b[0mfit\u001b[0m\u001b[1;33m(\u001b[0m\u001b[0mtraining_images\u001b[0m\u001b[1;33m,\u001b[0m\u001b[0mtraining_labels\u001b[0m\u001b[1;33m,\u001b[0m \u001b[0mepochs\u001b[0m \u001b[1;33m=\u001b[0m \u001b[1;36m600\u001b[0m\u001b[1;33m,\u001b[0m \u001b[0mcallbacks\u001b[0m\u001b[1;33m=\u001b[0m\u001b[1;33m[\u001b[0m\u001b[0mcallback\u001b[0m\u001b[1;33m]\u001b[0m\u001b[1;33m)\u001b[0m\u001b[1;33m\u001b[0m\u001b[1;33m\u001b[0m\u001b[0m\n\u001b[0m",
      "\u001b[1;32m~\\anaconda3\\envs\\tf\\lib\\site-packages\\tensorflow\\python\\keras\\engine\\training.py\u001b[0m in \u001b[0;36m_method_wrapper\u001b[1;34m(self, *args, **kwargs)\u001b[0m\n\u001b[0;32m    106\u001b[0m   \u001b[1;32mdef\u001b[0m \u001b[0m_method_wrapper\u001b[0m\u001b[1;33m(\u001b[0m\u001b[0mself\u001b[0m\u001b[1;33m,\u001b[0m \u001b[1;33m*\u001b[0m\u001b[0margs\u001b[0m\u001b[1;33m,\u001b[0m \u001b[1;33m**\u001b[0m\u001b[0mkwargs\u001b[0m\u001b[1;33m)\u001b[0m\u001b[1;33m:\u001b[0m\u001b[1;33m\u001b[0m\u001b[1;33m\u001b[0m\u001b[0m\n\u001b[0;32m    107\u001b[0m     \u001b[1;32mif\u001b[0m \u001b[1;32mnot\u001b[0m \u001b[0mself\u001b[0m\u001b[1;33m.\u001b[0m\u001b[0m_in_multi_worker_mode\u001b[0m\u001b[1;33m(\u001b[0m\u001b[1;33m)\u001b[0m\u001b[1;33m:\u001b[0m  \u001b[1;31m# pylint: disable=protected-access\u001b[0m\u001b[1;33m\u001b[0m\u001b[1;33m\u001b[0m\u001b[0m\n\u001b[1;32m--> 108\u001b[1;33m       \u001b[1;32mreturn\u001b[0m \u001b[0mmethod\u001b[0m\u001b[1;33m(\u001b[0m\u001b[0mself\u001b[0m\u001b[1;33m,\u001b[0m \u001b[1;33m*\u001b[0m\u001b[0margs\u001b[0m\u001b[1;33m,\u001b[0m \u001b[1;33m**\u001b[0m\u001b[0mkwargs\u001b[0m\u001b[1;33m)\u001b[0m\u001b[1;33m\u001b[0m\u001b[1;33m\u001b[0m\u001b[0m\n\u001b[0m\u001b[0;32m    109\u001b[0m \u001b[1;33m\u001b[0m\u001b[0m\n\u001b[0;32m    110\u001b[0m     \u001b[1;31m# Running inside `run_distribute_coordinator` already.\u001b[0m\u001b[1;33m\u001b[0m\u001b[1;33m\u001b[0m\u001b[1;33m\u001b[0m\u001b[0m\n",
      "\u001b[1;32m~\\anaconda3\\envs\\tf\\lib\\site-packages\\tensorflow\\python\\keras\\engine\\training.py\u001b[0m in \u001b[0;36mfit\u001b[1;34m(self, x, y, batch_size, epochs, verbose, callbacks, validation_split, validation_data, shuffle, class_weight, sample_weight, initial_epoch, steps_per_epoch, validation_steps, validation_batch_size, validation_freq, max_queue_size, workers, use_multiprocessing)\u001b[0m\n\u001b[0;32m   1096\u001b[0m                 batch_size=batch_size):\n\u001b[0;32m   1097\u001b[0m               \u001b[0mcallbacks\u001b[0m\u001b[1;33m.\u001b[0m\u001b[0mon_train_batch_begin\u001b[0m\u001b[1;33m(\u001b[0m\u001b[0mstep\u001b[0m\u001b[1;33m)\u001b[0m\u001b[1;33m\u001b[0m\u001b[1;33m\u001b[0m\u001b[0m\n\u001b[1;32m-> 1098\u001b[1;33m               \u001b[0mtmp_logs\u001b[0m \u001b[1;33m=\u001b[0m \u001b[0mtrain_function\u001b[0m\u001b[1;33m(\u001b[0m\u001b[0miterator\u001b[0m\u001b[1;33m)\u001b[0m\u001b[1;33m\u001b[0m\u001b[1;33m\u001b[0m\u001b[0m\n\u001b[0m\u001b[0;32m   1099\u001b[0m               \u001b[1;32mif\u001b[0m \u001b[0mdata_handler\u001b[0m\u001b[1;33m.\u001b[0m\u001b[0mshould_sync\u001b[0m\u001b[1;33m:\u001b[0m\u001b[1;33m\u001b[0m\u001b[1;33m\u001b[0m\u001b[0m\n\u001b[0;32m   1100\u001b[0m                 \u001b[0mcontext\u001b[0m\u001b[1;33m.\u001b[0m\u001b[0masync_wait\u001b[0m\u001b[1;33m(\u001b[0m\u001b[1;33m)\u001b[0m\u001b[1;33m\u001b[0m\u001b[1;33m\u001b[0m\u001b[0m\n",
      "\u001b[1;32m~\\anaconda3\\envs\\tf\\lib\\site-packages\\tensorflow\\python\\eager\\def_function.py\u001b[0m in \u001b[0;36m__call__\u001b[1;34m(self, *args, **kwds)\u001b[0m\n\u001b[0;32m    778\u001b[0m       \u001b[1;32melse\u001b[0m\u001b[1;33m:\u001b[0m\u001b[1;33m\u001b[0m\u001b[1;33m\u001b[0m\u001b[0m\n\u001b[0;32m    779\u001b[0m         \u001b[0mcompiler\u001b[0m \u001b[1;33m=\u001b[0m \u001b[1;34m\"nonXla\"\u001b[0m\u001b[1;33m\u001b[0m\u001b[1;33m\u001b[0m\u001b[0m\n\u001b[1;32m--> 780\u001b[1;33m         \u001b[0mresult\u001b[0m \u001b[1;33m=\u001b[0m \u001b[0mself\u001b[0m\u001b[1;33m.\u001b[0m\u001b[0m_call\u001b[0m\u001b[1;33m(\u001b[0m\u001b[1;33m*\u001b[0m\u001b[0margs\u001b[0m\u001b[1;33m,\u001b[0m \u001b[1;33m**\u001b[0m\u001b[0mkwds\u001b[0m\u001b[1;33m)\u001b[0m\u001b[1;33m\u001b[0m\u001b[1;33m\u001b[0m\u001b[0m\n\u001b[0m\u001b[0;32m    781\u001b[0m \u001b[1;33m\u001b[0m\u001b[0m\n\u001b[0;32m    782\u001b[0m       \u001b[0mnew_tracing_count\u001b[0m \u001b[1;33m=\u001b[0m \u001b[0mself\u001b[0m\u001b[1;33m.\u001b[0m\u001b[0m_get_tracing_count\u001b[0m\u001b[1;33m(\u001b[0m\u001b[1;33m)\u001b[0m\u001b[1;33m\u001b[0m\u001b[1;33m\u001b[0m\u001b[0m\n",
      "\u001b[1;32m~\\anaconda3\\envs\\tf\\lib\\site-packages\\tensorflow\\python\\eager\\def_function.py\u001b[0m in \u001b[0;36m_call\u001b[1;34m(self, *args, **kwds)\u001b[0m\n\u001b[0;32m    805\u001b[0m       \u001b[1;31m# In this case we have created variables on the first call, so we run the\u001b[0m\u001b[1;33m\u001b[0m\u001b[1;33m\u001b[0m\u001b[1;33m\u001b[0m\u001b[0m\n\u001b[0;32m    806\u001b[0m       \u001b[1;31m# defunned version which is guaranteed to never create variables.\u001b[0m\u001b[1;33m\u001b[0m\u001b[1;33m\u001b[0m\u001b[1;33m\u001b[0m\u001b[0m\n\u001b[1;32m--> 807\u001b[1;33m       \u001b[1;32mreturn\u001b[0m \u001b[0mself\u001b[0m\u001b[1;33m.\u001b[0m\u001b[0m_stateless_fn\u001b[0m\u001b[1;33m(\u001b[0m\u001b[1;33m*\u001b[0m\u001b[0margs\u001b[0m\u001b[1;33m,\u001b[0m \u001b[1;33m**\u001b[0m\u001b[0mkwds\u001b[0m\u001b[1;33m)\u001b[0m  \u001b[1;31m# pylint: disable=not-callable\u001b[0m\u001b[1;33m\u001b[0m\u001b[1;33m\u001b[0m\u001b[0m\n\u001b[0m\u001b[0;32m    808\u001b[0m     \u001b[1;32melif\u001b[0m \u001b[0mself\u001b[0m\u001b[1;33m.\u001b[0m\u001b[0m_stateful_fn\u001b[0m \u001b[1;32mis\u001b[0m \u001b[1;32mnot\u001b[0m \u001b[1;32mNone\u001b[0m\u001b[1;33m:\u001b[0m\u001b[1;33m\u001b[0m\u001b[1;33m\u001b[0m\u001b[0m\n\u001b[0;32m    809\u001b[0m       \u001b[1;31m# Release the lock early so that multiple threads can perform the call\u001b[0m\u001b[1;33m\u001b[0m\u001b[1;33m\u001b[0m\u001b[1;33m\u001b[0m\u001b[0m\n",
      "\u001b[1;32m~\\anaconda3\\envs\\tf\\lib\\site-packages\\tensorflow\\python\\eager\\function.py\u001b[0m in \u001b[0;36m__call__\u001b[1;34m(self, *args, **kwargs)\u001b[0m\n\u001b[0;32m   2827\u001b[0m     \u001b[1;32mwith\u001b[0m \u001b[0mself\u001b[0m\u001b[1;33m.\u001b[0m\u001b[0m_lock\u001b[0m\u001b[1;33m:\u001b[0m\u001b[1;33m\u001b[0m\u001b[1;33m\u001b[0m\u001b[0m\n\u001b[0;32m   2828\u001b[0m       \u001b[0mgraph_function\u001b[0m\u001b[1;33m,\u001b[0m \u001b[0margs\u001b[0m\u001b[1;33m,\u001b[0m \u001b[0mkwargs\u001b[0m \u001b[1;33m=\u001b[0m \u001b[0mself\u001b[0m\u001b[1;33m.\u001b[0m\u001b[0m_maybe_define_function\u001b[0m\u001b[1;33m(\u001b[0m\u001b[0margs\u001b[0m\u001b[1;33m,\u001b[0m \u001b[0mkwargs\u001b[0m\u001b[1;33m)\u001b[0m\u001b[1;33m\u001b[0m\u001b[1;33m\u001b[0m\u001b[0m\n\u001b[1;32m-> 2829\u001b[1;33m     \u001b[1;32mreturn\u001b[0m \u001b[0mgraph_function\u001b[0m\u001b[1;33m.\u001b[0m\u001b[0m_filtered_call\u001b[0m\u001b[1;33m(\u001b[0m\u001b[0margs\u001b[0m\u001b[1;33m,\u001b[0m \u001b[0mkwargs\u001b[0m\u001b[1;33m)\u001b[0m  \u001b[1;31m# pylint: disable=protected-access\u001b[0m\u001b[1;33m\u001b[0m\u001b[1;33m\u001b[0m\u001b[0m\n\u001b[0m\u001b[0;32m   2830\u001b[0m \u001b[1;33m\u001b[0m\u001b[0m\n\u001b[0;32m   2831\u001b[0m   \u001b[1;33m@\u001b[0m\u001b[0mproperty\u001b[0m\u001b[1;33m\u001b[0m\u001b[1;33m\u001b[0m\u001b[0m\n",
      "\u001b[1;32m~\\anaconda3\\envs\\tf\\lib\\site-packages\\tensorflow\\python\\eager\\function.py\u001b[0m in \u001b[0;36m_filtered_call\u001b[1;34m(self, args, kwargs, cancellation_manager)\u001b[0m\n\u001b[0;32m   1841\u001b[0m       \u001b[0;31m`\u001b[0m\u001b[0margs\u001b[0m\u001b[0;31m`\u001b[0m \u001b[1;32mand\u001b[0m\u001b[0;31m \u001b[0m\u001b[0;31m`\u001b[0m\u001b[0mkwargs\u001b[0m\u001b[0;31m`\u001b[0m\u001b[1;33m.\u001b[0m\u001b[1;33m\u001b[0m\u001b[1;33m\u001b[0m\u001b[0m\n\u001b[0;32m   1842\u001b[0m     \"\"\"\n\u001b[1;32m-> 1843\u001b[1;33m     return self._call_flat(\n\u001b[0m\u001b[0;32m   1844\u001b[0m         [t for t in nest.flatten((args, kwargs), expand_composites=True)\n\u001b[0;32m   1845\u001b[0m          if isinstance(t, (ops.Tensor,\n",
      "\u001b[1;32m~\\anaconda3\\envs\\tf\\lib\\site-packages\\tensorflow\\python\\eager\\function.py\u001b[0m in \u001b[0;36m_call_flat\u001b[1;34m(self, args, captured_inputs, cancellation_manager)\u001b[0m\n\u001b[0;32m   1921\u001b[0m         and executing_eagerly):\n\u001b[0;32m   1922\u001b[0m       \u001b[1;31m# No tape is watching; skip to running the function.\u001b[0m\u001b[1;33m\u001b[0m\u001b[1;33m\u001b[0m\u001b[1;33m\u001b[0m\u001b[0m\n\u001b[1;32m-> 1923\u001b[1;33m       return self._build_call_outputs(self._inference_function.call(\n\u001b[0m\u001b[0;32m   1924\u001b[0m           ctx, args, cancellation_manager=cancellation_manager))\n\u001b[0;32m   1925\u001b[0m     forward_backward = self._select_forward_and_backward_functions(\n",
      "\u001b[1;32m~\\anaconda3\\envs\\tf\\lib\\site-packages\\tensorflow\\python\\eager\\function.py\u001b[0m in \u001b[0;36mcall\u001b[1;34m(self, ctx, args, cancellation_manager)\u001b[0m\n\u001b[0;32m    543\u001b[0m       \u001b[1;32mwith\u001b[0m \u001b[0m_InterpolateFunctionError\u001b[0m\u001b[1;33m(\u001b[0m\u001b[0mself\u001b[0m\u001b[1;33m)\u001b[0m\u001b[1;33m:\u001b[0m\u001b[1;33m\u001b[0m\u001b[1;33m\u001b[0m\u001b[0m\n\u001b[0;32m    544\u001b[0m         \u001b[1;32mif\u001b[0m \u001b[0mcancellation_manager\u001b[0m \u001b[1;32mis\u001b[0m \u001b[1;32mNone\u001b[0m\u001b[1;33m:\u001b[0m\u001b[1;33m\u001b[0m\u001b[1;33m\u001b[0m\u001b[0m\n\u001b[1;32m--> 545\u001b[1;33m           outputs = execute.execute(\n\u001b[0m\u001b[0;32m    546\u001b[0m               \u001b[0mstr\u001b[0m\u001b[1;33m(\u001b[0m\u001b[0mself\u001b[0m\u001b[1;33m.\u001b[0m\u001b[0msignature\u001b[0m\u001b[1;33m.\u001b[0m\u001b[0mname\u001b[0m\u001b[1;33m)\u001b[0m\u001b[1;33m,\u001b[0m\u001b[1;33m\u001b[0m\u001b[1;33m\u001b[0m\u001b[0m\n\u001b[0;32m    547\u001b[0m               \u001b[0mnum_outputs\u001b[0m\u001b[1;33m=\u001b[0m\u001b[0mself\u001b[0m\u001b[1;33m.\u001b[0m\u001b[0m_num_outputs\u001b[0m\u001b[1;33m,\u001b[0m\u001b[1;33m\u001b[0m\u001b[1;33m\u001b[0m\u001b[0m\n",
      "\u001b[1;32m~\\anaconda3\\envs\\tf\\lib\\site-packages\\tensorflow\\python\\eager\\execute.py\u001b[0m in \u001b[0;36mquick_execute\u001b[1;34m(op_name, num_outputs, inputs, attrs, ctx, name)\u001b[0m\n\u001b[0;32m     57\u001b[0m   \u001b[1;32mtry\u001b[0m\u001b[1;33m:\u001b[0m\u001b[1;33m\u001b[0m\u001b[1;33m\u001b[0m\u001b[0m\n\u001b[0;32m     58\u001b[0m     \u001b[0mctx\u001b[0m\u001b[1;33m.\u001b[0m\u001b[0mensure_initialized\u001b[0m\u001b[1;33m(\u001b[0m\u001b[1;33m)\u001b[0m\u001b[1;33m\u001b[0m\u001b[1;33m\u001b[0m\u001b[0m\n\u001b[1;32m---> 59\u001b[1;33m     tensors = pywrap_tfe.TFE_Py_Execute(ctx._handle, device_name, op_name,\n\u001b[0m\u001b[0;32m     60\u001b[0m                                         inputs, attrs, num_outputs)\n\u001b[0;32m     61\u001b[0m   \u001b[1;32mexcept\u001b[0m \u001b[0mcore\u001b[0m\u001b[1;33m.\u001b[0m\u001b[0m_NotOkStatusException\u001b[0m \u001b[1;32mas\u001b[0m \u001b[0me\u001b[0m\u001b[1;33m:\u001b[0m\u001b[1;33m\u001b[0m\u001b[1;33m\u001b[0m\u001b[0m\n",
      "\u001b[1;31mKeyboardInterrupt\u001b[0m: "
     ]
    }
   ],
   "source": [
    "class mycallbacks(tf.keras.callbacks.Callback):\n",
    "    def on_epoch_end(self, epoch, log={}):\n",
    "        if (log.get('accuracy')>0.99):\n",
    "            print(\"/n Accuracy reached 70% , stopping the model training\")\n",
    "            self.model.stop_training = True\n",
    "            \n",
    "\n",
    "\n",
    "model = tf.keras.models.Sequential([\n",
    "    tf.keras.layers.Flatten(input_shape = (28, 28)),\n",
    "    tf.keras.layers.Dense(128, activation = tf.nn.relu),\n",
    "    tf.keras.layers.Dense(128, activation = tf.nn.relu),\n",
    "    tf.keras.layers.Dense(10, activation = tf.nn.softmax)\n",
    "])\n",
    "\n",
    "callback = mycallbacks()\n",
    "model.compile(optimizer='adam', loss = 'sparse_categorical_crossentropy' , metrics=['accuracy'])\n",
    "model.fit(training_images,training_labels, epochs = 600, callbacks=[callback])"
   ]
  },
  {
   "cell_type": "code",
   "execution_count": 5,
   "id": "still-client",
   "metadata": {},
   "outputs": [
    {
     "name": "stdout",
     "output_type": "stream",
     "text": [
      "313/313 [==============================] - 1s 2ms/step - loss: 0.7139 - accuracy: 0.8921\n",
      " test accuracy: 0.8920999765396118\n",
      "test loss: 0.7138786911964417\n"
     ]
    }
   ],
   "source": [
    "test_loss , test_acc = model.evaluate(test_images, test_labels)\n",
    "print(f' test accuracy: {test_acc}')\n",
    "print(f'test loss: {test_loss}')"
   ]
  },
  {
   "cell_type": "code",
   "execution_count": null,
   "id": "given-gateway",
   "metadata": {},
   "outputs": [],
   "source": [
    "model = tf.keras.models.Sequential([\n",
    "    tf.keras.layers.Conv2D(input_shape(60000, 28, 28, 1))\n",
    "    tf.keras.layers.flatten(),\n",
    "    tf.keras.layers.Dense(128, activation = 'relu'),\n",
    "    tf.keras.layers.Dense(10, activation = 'softmax')\n",
    "]) "
   ]
  },
  {
   "cell_type": "code",
   "execution_count": 14,
   "id": "collectible-chrome",
   "metadata": {},
   "outputs": [],
   "source": [
    "train_image_gen = tf.keras.preprocessing.image.ImageDataGenerator(rescale= 1/255.0)\n",
    "train_image_gen.flow_from_directory"
   ]
  },
  {
   "cell_type": "code",
   "execution_count": 15,
   "id": "viral-republic",
   "metadata": {},
   "outputs": [],
   "source": [
    "from tensorflow.keras.preprocessing.image import ImageDataGenerator\n",
    "validation_image_gen  = ImageDataGenerator(rescale=1/255)"
   ]
  },
  {
   "cell_type": "code",
   "execution_count": 20,
   "id": "subtle-liberal",
   "metadata": {},
   "outputs": [
    {
     "name": "stdout",
     "output_type": "stream",
     "text": [
      "Found 256 images belonging to 2 classes.\n"
     ]
    }
   ],
   "source": [
    "file_path = r'C:\\Users\\yeboa\\Desktop\\files\\horse-or-human'\n",
    "validation_generator = validation_image_gen.flow_from_directory(file_path, target_size=(300, 300), batch_size=32, \n",
    "                                                               class_mode= 'binary')\n"
   ]
  },
  {
   "cell_type": "code",
   "execution_count": null,
   "id": "posted-fence",
   "metadata": {},
   "outputs": [],
   "source": [
    "history = model.fit(train_generator ,epochs = 15, steps_per_epoch = 8, \n",
    "                    validation_data = validation_generator, batch_size = 32, \n",
    "                   validation_steps = 8)"
   ]
  }
 ],
 "metadata": {
  "kernelspec": {
   "display_name": "Python 3",
   "language": "python",
   "name": "python3"
  },
  "language_info": {
   "codemirror_mode": {
    "name": "ipython",
    "version": 3
   },
   "file_extension": ".py",
   "mimetype": "text/x-python",
   "name": "python",
   "nbconvert_exporter": "python",
   "pygments_lexer": "ipython3",
   "version": "3.8.5"
  }
 },
 "nbformat": 4,
 "nbformat_minor": 5
}
