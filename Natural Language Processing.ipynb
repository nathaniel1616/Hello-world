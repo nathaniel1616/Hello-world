{
 "cells": [
  {
   "cell_type": "markdown",
   "id": "e65a9604",
   "metadata": {},
   "source": [
    "# Rating of Movies and Plot summary"
   ]
  },
  {
   "cell_type": "code",
   "execution_count": 2,
   "id": "a2e2567d",
   "metadata": {},
   "outputs": [],
   "source": [
    "from tensorflow.keras.preprocessing.text import Tokenizer"
   ]
  },
  {
   "cell_type": "code",
   "execution_count": null,
   "id": "284c3436",
   "metadata": {
    "scrolled": true
   },
   "outputs": [],
   "source": [
    "import csv \n",
    "file=r'C:\\Users\\Nat\\Desktop\\New folder\\machine learning\\data set\\kaggle datasets\\creditcard.csv'\n",
    "with open(file,'r') as csvfile:\n",
    "    reader = csv.DictReader(csvfile)\n",
    "    \n",
    "    "
   ]
  },
  {
   "cell_type": "code",
   "execution_count": 22,
   "id": "4e07cce7",
   "metadata": {},
   "outputs": [],
   "source": [
    "import json\n",
    "\n",
    "json_path = r\"C:\\Users\\Nat\\Downloads\\Compressed\\IMDB_movie_details.json\"\n",
    "json_file = open(json_path,'r')\n",
    "\n",
    "for line in json_file:\n",
    "    json.loads(line)\n"
   ]
  },
  {
   "cell_type": "code",
   "execution_count": 18,
   "id": "cf23ca74",
   "metadata": {},
   "outputs": [
    {
     "data": {
      "text/plain": [
       "{'plot_summary': \"The marriage of David Burgess, a senior executive, and his beautiful wife, Sara Burgess, an interior designer, is under great strain because David is in the process of putting together the biggest telecommunications merger in the history of the business. Sara suggests that they attend a kinky sex club to revitalize their marriage and help David to relax. However, David's problems are exacerbated by a huge power struggle at his office between Karen Stone, Gil Braman and himself. Karen, a beautiful, ambitious, ruthless, senior executive, is determined to take over this merger at any cost. To further her aims she hires the services of sleazy divorce private detective Ernie Fontenot to spy on the Burgess's. At the date of the merger draws near and all the blackmail and dirty tricks start to play themselves out, who will come out the winner?                Written by\\nMark Smith <msmith@osi.co.uk>\",\n",
       " 'movie_id': 'tt0114142/',\n",
       " 'duration': '1h 32min',\n",
       " 'genre': ['Drama', 'Thriller'],\n",
       " 'rating': '4.0',\n",
       " 'release_date': '1999-01-29',\n",
       " 'plot_synopsis': ''}"
      ]
     },
     "execution_count": 18,
     "metadata": {},
     "output_type": "execute_result"
    }
   ],
   "source": [
    "movie_details"
   ]
  },
  {
   "cell_type": "code",
   "execution_count": 28,
   "id": "f0e4569b",
   "metadata": {},
   "outputs": [],
   "source": [
    "import json\n",
    "file = r\"C:\\Users\\Nat\\Downloads\\Compressed\\IMDB_movie_details.json\"\n",
    "def parse_data(file):\n",
    "    for l in open(file,'r'):\n",
    "        yield json.loads(l)\n",
    "\n",
    "data = list(parse_data(file))\n"
   ]
  },
  {
   "cell_type": "code",
   "execution_count": 36,
   "id": "7aea54ca",
   "metadata": {},
   "outputs": [
    {
     "data": {
      "text/plain": [
       "{'movie_id': 'tt0105112',\n",
       " 'plot_summary': \"Former CIA analyst, Jack Ryan is in England with his family on vacation when he suddenly witnesses an explosion outside Buckingham Palace. It is revealed that some people are trying to abduct a member of the Royal Family but Jack intervenes, killing one of them and capturing the other, and stops the plan in its tracks. Afterwards, he learns that they're Irish revolutionaries and the two men are brothers. During his court hearing the one that's still alive vows to get back at Jack but is sentenced and that seems to be the end of it. However, whilst the man is being transported, he is broken out. Jack learns of this but doesn't think there's anything to worry about. But, when he is at the Naval Academy someone tries to kill him. He learns that they are also going after his family and so he rushes to find them, safe but having also been the victims of a failed assassination. That's when Jack decides to rejoin the CIA, and they try to find the man before he makes another attempt.                Written by\\nrcs0411@yahoo.com\",\n",
       " 'duration': '1h 57min',\n",
       " 'genre': ['Action', 'Thriller'],\n",
       " 'rating': '6.9',\n",
       " 'release_date': '1992-06-05',\n",
       " 'plot_synopsis': 'Jack Ryan (Ford) is on a \"working vacation\" in London with his family. He has retired from the CIA and is a Professor at the US Naval Academy. He is seen delivering a lecture at the Royal Naval Academy in London.Meanwhile, Ryan\\'s wife Cathy and daughter Sally are sightseeing near Buckingham Palace. Sally and Cathy come upon a British Royal Guard, and Sally tries to get the guard to react by doing an improvised tap dance in front of him. She\\'s impressed when the guard, trained to ignore distraction, doesn\\'t react at all, and they leave.As Sally and Cathy walk away from the guard, en route to rendezvous with Ryan, they walk by a stolen cab, in which sit three Ulster Liberation Army terrorists: Kevin O\\'Donnell, the driver, as well as Sean Miller (Sean Bean) and his younger brother Patrick. The three are loading bullets into their guns as they prepare to carry out a scheduled ambush on Lord William Holmes, British Secretary of State for Northern Ireland and a distant member of the British Royal Family (the cousin of the Queen Mother). As they finish loading their weapons, another terrorist, Annette, radios to them that Lord Holmes is leaving the palace with his wife and son.As Lord Holmes\\'s car leaves the palace, the terrorists\\' car falls in line behind him. They follow the car, headed for the ambush point. As they drive, O\\'Donnell and the Miller brothers don ski masks.Meanwhile, Ryan is about to cross the street to meet with his wife and daughter. He arrives at the same time that Lord Holmes\\'s car is passing through the area.Suddenly, another cab, parked on the side of the road, driven by Annette, pulls out and swerves in front of Lord Holmes\\'s vehicle. Simultaneously, O\\'Donnell\\'s vehicle swerves to a stop behind the car. The Millers and another accomplice jump out and quickly plant a bomb underneath the chauffeured car\\'s engine. Ryan sees what\\'s going on and hastily gets his family to cover just as the bomb is detonated. Moments later, Sean and another accomplice begin shooting into the car, riddling Lord Holmes\\'s driver and bodyguard with bullet. The onslaught of bullets does not kill Lord Holmes, who is currently using his body to shield his family. Sean marches over to the rear door and orders Lord Holmes out of the car at gunpoint. Ryan, unable to stand being just a bystander, immediately breaks cover, runs up behind Miller, and disarms him. As Ryan grabs Sean\\'s pistol, he gets shot in the left shoulder by another terrorist. He shoots one of the other terrorists in the shoulder. Patrick attempts to flee, but Ryan fatally shoots him in the chest. Seeing two of the royal guards racing towards the scene, the remaining terrorists quickly get back in their cars and drive off, leaving Sean to be captured when the authorities arrive. They retreat back to a warehouse, where they change out license plates.While recovering, Ryan is called to testify against Miller as a witness. Subsequently, Miller is convicted on all charges and sentenced to life in prison. Ryan is awarded the order of Knight Commander of the Victorian Order, and eventually returns to the United States.On the possibility that Miller\\'s ULA comrades might try to liberate him, the authorities take no chances. To that extent, they set up decoy convoys on the day that Miller is to be transferred to Albany Prison on the Isle of Wight. However, someone manages to tip off the ULA as to which convoy is carrying Miller. Miller\\'s motorcade is in transit when it comes to a stop at a drawbridge. The raised bridge, however, is a trap meant to block them in. Moments after the convoy comes to a stop, Miller\\'s comrades attack, using rocket launchers to blow up the cars at the front and rear of the convoy. They then march up to the prison van and order the guards out at gunpoint by taking the bridge operator hostage and threatening to shoot him. One of the guards hesitates and is shot fatally. The other officer and the inspector are pulled out, thrown on the ground and forced to lie on their stomachs. O\\'Donnell hands Miller a pistol, with which he coldly executes both officers and the bridge operator by shooting them in the backs of their heads. They then depart the scene.Miller and his companions flee on a cargo ship from Britain to Libya, to prepare for their next kidnapping attempt on Lord Holmes. Miller however, cannot shake his anger towards Ryan for killing his younger brother and persuades several members of his entourage to accompany him to the United States on a short mission targeting Ryan and his family.Miller travels to the United States, accompanied by Annette, comrade Ned Clark, and a fourth henchman. Annette and Clark travel to the United States Naval Academy to ambush Ryan as he\\'s leaving work. Ryan notices Clark idling nearby. Clark casually walks away, but Ryan clearly unnerved, then gets even more nervous as he hears a car engine starting. His suspicions are well warranted-as he continues walking down the street, he looks in the reflection of a parked van\\'s rearview door and sees that Clark, and the stolen car driven by Annette, are following him. Ryan pretends not to see them until he\\'s walking past a parked panel truck, at which point he ducks behind the truck. Clark draws a silenced pistol and prepares to corner Ryan, but Ryan attacks him first. Clark quickly gets the upper hand and throws Ryan to the curb. He grabs his pistol and is about to shoot Ryan when he\\'s shot dead himself by a US Marine sentry. Annette quickly drives away in her Jeep. Ryan, realizing that Miller is going to target Cathy and Sally, jumps into his car and drives off.Simultaneously, Miller and the other henchman follow Cathy as she picks up Sally from school, with Miller riding shotgun. They prepare to follow the two, but are temporarily held up by a crossing guard. Once the crossing guard clears, they pursue her to US Highway 50. Ryan tries to frantically call Cathy on his car phone, but she is busy answering phone calls from the hospital. As he\\'s trying to connect with her, Miller and his henchman recklessly weave in and out of traffic to catch up with Cathy. Ryan eventually gets through to Cathy and tells her to get off the highway and find the nearest police station. Unfortunately, just as the call ends, Miller\\'s van comes charging up on her using the left shoulder. Miller moves to the backseat of the van, grabs a submachine gun, and slides open the door. Another car momentarily delays him, but once he has a clear aim, Miller opens fire, spraying Cathy\\'s car with bullets. A multicar pileup ensues as Cathy loses control of her car and crashes head-on into a concrete barrier. Ryan, who has found himself stuck in traffic headed in the other direction, sees the smoke from the crash and realizes the worst.Cathy and Sally are airlifted to a nearby hospital for treatment. Enraged over the near-loss of his family, Ryan decides to go back to work for the CIA, having earlier rejected the appeal of his former superior, Vice Admiral James Greer (James Earl Jones).Ryan\\'s tireless work leads him to conclude that Miller has taken refuge in a training camp, one of many located in Libya. He also determines that a recent new arrival at the camp may be one of O\\'Donnell\\'s English informants, Dennis Cooley. Ryan makes his recommendations to his superiors at the CIA. Greer invites Jack to a live feed of an SAS strike team attack on the camp. Everyone in the camp is eliminated but unbeknownst to the CIA and Ryan, Miller and his companions have already fled the camp and are on their way to the US to stage their next attack on Lord Holmes.Lord Holmes decides to visit Ryan at his home to formally present his KCVO. With the aid of Lord Holmes\\' traitorous assistant, Miller\\'s group tracks Holmes to this location, kills the Diplomatic Security Service agents and Maryland state troopers guarding the house, and attempts once more to kidnap Lord Holmes. Ryan leads Holmes and his family to safety while he attempts to lure Miller and his companions away from his home.The FBI Hostage Rescue Teams are scrambled to pick up Holmes. Upon realising that Ryan is leading them away from Holmes, Miller\\'s companions try to persuade Miller to turn around, but an enraged and deranged Miller kills his terrorist companions and continues his pursuit of Ryan. Ryan and Miller fight hand to hand; Miller is killed when Ryan impales him backward on a boat anchor, and his body is obliterated in the subsequent explosion of the craft.Credits roll just after Caroline Ryan learns the gender of the child she is going to have, and before she tells Jack and Sally.'}"
      ]
     },
     "execution_count": 36,
     "metadata": {},
     "output_type": "execute_result"
    }
   ],
   "source": [
    "data[0]"
   ]
  },
  {
   "cell_type": "code",
   "execution_count": null,
   "id": "d92e18dd",
   "metadata": {},
   "outputs": [],
   "source": [
    "ratings = []\n",
    "plot_summary = []\n",
    "plot_synopsis = []\n",
    "for each_movie in data:\n",
    "    ratings.append(each_movie['rating'])\n",
    "    plot_summary.append(each_movie['plot_summary'])\n",
    "    plot_synopsis.append(each_movie['plot_synopsis'])"
   ]
  },
  {
   "cell_type": "code",
   "execution_count": 46,
   "id": "91b0bc70",
   "metadata": {},
   "outputs": [],
   "source": [
    "from tensorflow.keras.preprocessing.sequence import pad_sequences "
   ]
  },
  {
   "cell_type": "code",
   "execution_count": 47,
   "id": "c13cabf4",
   "metadata": {},
   "outputs": [
    {
     "data": {
      "text/plain": [
       "array([ 168,  785, 2363, ...,    0,    0,    0])"
      ]
     },
     "execution_count": 47,
     "metadata": {},
     "output_type": "execute_result"
    }
   ],
   "source": [
    "\n",
    "tokenizer = Tokenizer(oov_token='<OOV>')\n",
    "tokenizer.fit_on_texts(plot_synopsis)\n",
    "sequences = tokenizer.texts_to_sequences(plot_synopsis)\n",
    "word_index = tokenizer.word_index\n",
    "padded = pad_sequences(sequences,padding='post')\n",
    "padded[0]\n"
   ]
  },
  {
   "cell_type": "code",
   "execution_count": 52,
   "id": "bef5c51a",
   "metadata": {},
   "outputs": [
    {
     "data": {
      "text/plain": [
       "array([  591,  1556, 12103,   168,   785,     8,     9,  1902,    13,\n",
       "          11,   127,    16,  3819,    34,     7,   213,  2316,    33,\n",
       "        1370,   153,  9568,  1557,    22,     8,   674,    10,    81,\n",
       "         128,    27,   254,     3, 14540,     5,  1042,     6,     2,\n",
       "        1907,   127,    20,   168,  5135,   283,    39,     6,    30,\n",
       "           4,  7476,     2,    60,     4,   426,     2,   291,     9,\n",
       "         163,  1559,  1366,     7,   448,    10,   382,  5349, 15689,\n",
       "           4,     2,    57,    96,    27,   985,   140,    11,  1197,\n",
       "         907,     2,    39,   868,   109,   467,  2588,     3,    55,\n",
       "          40,    21,   168,    20,     8,  4088,     4,    10,   365,\n",
       "           3,    35,     2,   236,     6,    22,   111,  5724,     2,\n",
       "          58,     8,    83,  3792,     7,     8,   702,    25,   168,\n",
       "         448,     6,    51,    20,   113,   564,   777,   489,     3,\n",
       "        2807,    41,    20,    34,     7,     8,    21,     2,  6670,\n",
       "        3108,   378,    98,     3,   133,    14,     7,   448,    10,\n",
       "          18,    27,    82,   131,    42,    11,   127,     4,    66,\n",
       "           7,   658,     3,    73,    30,   664,    20,   137,    82,\n",
       "          64,     2,  1933,     6,     5,  1855,  3082,   868,    34,\n",
       "         168,   230,     3,  6311,     2,  1556,     4,    18,   307,\n",
       "           3,    73,     2,    58,    54,     7,   151,   102,   443,\n",
       "        1458,    23,     1,     1, 10973,     0,     0,     0,     0,\n",
       "           0,     0,     0,     0,     0,     0,     0,     0,     0])"
      ]
     },
     "execution_count": 52,
     "metadata": {},
     "output_type": "execute_result"
    }
   ],
   "source": [
    "# test dataset\n",
    "test_seq = tokenizer.texts_to_sequences(plot_summary)\n",
    "test_padded = pad_sequences(test_seq,padding='post')\n",
    "test_padded[0]"
   ]
  },
  {
   "cell_type": "code",
   "execution_count": null,
   "id": "d5994845",
   "metadata": {},
   "outputs": [],
   "source": []
  }
 ],
 "metadata": {
  "kernelspec": {
   "display_name": "Python 3",
   "language": "python",
   "name": "python3"
  },
  "language_info": {
   "codemirror_mode": {
    "name": "ipython",
    "version": 3
   },
   "file_extension": ".py",
   "mimetype": "text/x-python",
   "name": "python",
   "nbconvert_exporter": "python",
   "pygments_lexer": "ipython3",
   "version": "3.8.10"
  }
 },
 "nbformat": 4,
 "nbformat_minor": 5
}
