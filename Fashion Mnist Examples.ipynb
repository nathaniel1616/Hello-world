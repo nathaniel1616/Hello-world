{
 "cells": [
  {
   "cell_type": "code",
   "execution_count": 1,
   "id": "terminal-rating",
   "metadata": {},
   "outputs": [],
   "source": [
    "# my imports\n",
    "import tensorflow as tf\n",
    "import numpy as np\n",
    "import matplotlib.pyplot  as plt"
   ]
  },
  {
   "cell_type": "code",
   "execution_count": null,
   "id": "joined-madrid",
   "metadata": {},
   "outputs": [],
   "source": []
  },
  {
   "cell_type": "code",
   "execution_count": 2,
   "id": "satellite-recorder",
   "metadata": {},
   "outputs": [
    {
     "name": "stdout",
     "output_type": "stream",
     "text": [
      "Epoch 1/10\n",
      "1875/1875 [==============================] - 6s 3ms/step - loss: 3.0810 - accuracy: 0.6680 - mse: 27.6668\n",
      "Epoch 2/10\n",
      "1875/1875 [==============================] - 4s 2ms/step - loss: 0.7514 - accuracy: 0.7291 - mse: 27.6668\n",
      "Epoch 3/10\n",
      "1875/1875 [==============================] - 5s 2ms/step - loss: 0.6341 - accuracy: 0.7694 - mse: 27.6714\n",
      "Epoch 4/10\n",
      "1875/1875 [==============================] - 4s 2ms/step - loss: 0.5962 - accuracy: 0.7880 - mse: 27.6730\n",
      "Epoch 5/10\n",
      "1875/1875 [==============================] - 4s 2ms/step - loss: 0.5677 - accuracy: 0.7964 - mse: 27.6743\n",
      "Epoch 6/10\n",
      "1875/1875 [==============================] - 4s 2ms/step - loss: 0.5592 - accuracy: 0.7982 - mse: 27.6749\n",
      "Epoch 7/10\n",
      "1875/1875 [==============================] - 4s 2ms/step - loss: 0.5432 - accuracy: 0.8037 - mse: 27.6755\n",
      "Epoch 8/10\n",
      "1875/1875 [==============================] - 4s 2ms/step - loss: 0.5467 - accuracy: 0.8040 - mse: 27.6758\n",
      "Epoch 9/10\n",
      "1875/1875 [==============================] - 4s 2ms/step - loss: 0.5382 - accuracy: 0.8086 - mse: 27.6760\n",
      "Epoch 10/10\n",
      "1875/1875 [==============================] - 4s 2ms/step - loss: 0.5258 - accuracy: 0.8152 - mse: 27.6767\n",
      "--------------------------------------------------------------------------------------------------------------\n",
      "evaluations\n",
      "  1/313 [..............................] - ETA: 0s - loss: 0.6167 - accuracy: 0.7812 - mse: 26.6881WARNING:tensorflow:Callbacks method `on_test_batch_end` is slow compared to the batch time (batch time: 0.0000s vs `on_test_batch_end` time: 0.0156s). Check your callbacks.\n",
      "313/313 [==============================] - 1s 2ms/step - loss: 0.6477 - accuracy: 0.7848 - mse: 27.6761\n"
     ]
    },
    {
     "data": {
      "text/plain": [
       "[0.6477137804031372, 0.7847999930381775, 27.676088333129883]"
      ]
     },
     "execution_count": 2,
     "metadata": {},
     "output_type": "execute_result"
    }
   ],
   "source": [
    "# callbacks \n",
    "mnist = tf.keras.datasets.fashion_mnist\n",
    "(training_images, training_labels), (test_images, test_labels) =mnist.load_data()\n",
    "class MyCallBacks(tf.keras.callbacks.Callback):\n",
    "    def on_epoch_end(self, epoch, logs ={}):\n",
    "        if (logs.get('loss')<0.05):\n",
    "            print('accuracy of about 95 percent reached , cancel training .')\n",
    "            self.model.stop_training = True\n",
    "            \n",
    "callback = MyCallBacks()\n",
    "mod = tf.keras.Sequential([\n",
    "    tf.keras.layers.Flatten(),\n",
    "    tf.keras.layers.Dense(128, activation = 'relu'),\n",
    "    tf.keras.layers.Dense(10, activation = 'softmax')\n",
    "])\n",
    "\n",
    "mod.compile(optimizer = 'adam', loss = 'sparse_categorical_crossentropy', metrics = ['accuracy','mse'])\n",
    "mod.fit(training_images, training_labels , epochs = 10 ,callbacks = [callback])\n",
    "print('-----------'*10)\n",
    "print('evaluations')\n",
    "mod.evaluate(test_images, test_labels)"
   ]
  },
  {
   "cell_type": "code",
   "execution_count": 20,
   "id": "sweet-implementation",
   "metadata": {},
   "outputs": [
    {
     "name": "stdout",
     "output_type": "stream",
     "text": [
      "0.7407385\n",
      "[1.61438862e-08 1.43542884e-08 7.40738511e-01 2.47675143e-05\n",
      " 2.56688625e-01 1.68397747e-30 2.54819077e-03 0.00000000e+00\n",
      " 1.09538194e-11 0.00000000e+00]\n",
      "2\n"
     ]
    }
   ],
   "source": [
    "print(max(mod.predict(test_images)[1]))\n",
    "print(mod.predict(test_images)[1])\n",
    "print(test_labels[1])"
   ]
  },
  {
   "cell_type": "code",
   "execution_count": 16,
   "id": "balanced-clarity",
   "metadata": {},
   "outputs": [
    {
     "data": {
      "text/plain": [
       "<matplotlib.image.AxesImage at 0x2802bf253a0>"
      ]
     },
     "execution_count": 16,
     "metadata": {},
     "output_type": "execute_result"
    },
    {
     "data": {
      "image/png": "[encoded data removed]",
      "text/plain": [
       "<Figure size 432x288 with 1 Axes>"
      ]
     },
     "metadata": {
      "needs_background": "light"
     },
     "output_type": "display_data"
    }
   ],
   "source": [
    "plt.imshow(test_images[2])"
   ]
  },
  {
   "cell_type": "code",
   "execution_count": 2,
   "id": "occupied-might",
   "metadata": {},
   "outputs": [],
   "source": [
    "\n",
    "mnist = tf.keras.datasets.fashion_mnist"
   ]
  },
  {
   "cell_type": "code",
   "execution_count": 3,
   "id": "taken-twist",
   "metadata": {},
   "outputs": [],
   "source": [
    "(training_images, training_labels), (test_images, test_labels)= mnist.load_data() \n"
   ]
  },
  {
   "cell_type": "markdown",
   "id": "turned-absolute",
   "metadata": {},
   "source": [
    "This is a dataset of 60,000 28x28 grayscale images of 10 fashion categories,\n",
    "along with a test set of 10,000 images. This dataset can be used as\n",
    "a drop-in replacement for MNIST. The class labels are:\n",
    "\n",
    "| Label | Description |\n",
    "|:-----:|-------------|\n",
    "|   0   | T-shirt/top |\n",
    "|   1   | Trouser     |\n",
    "|   2   | Pullover    |\n",
    "|   3   | Dress       |\n",
    "|   4   | Coat        |\n",
    "|   5   | Sandal      |\n",
    "|   6   | Shirt       |\n",
    "|   7   | Sneaker     |\n",
    "|   8   | Bag         |\n",
    "|   9   | Ankle boot  |"
   ]
  },
  {
   "cell_type": "code",
   "execution_count": 4,
   "id": "basic-excess",
   "metadata": {},
   "outputs": [
    {
     "data": {
      "text/plain": [
       "<matplotlib.image.AxesImage at 0x1ecd4976640>"
      ]
     },
     "execution_count": 4,
     "metadata": {},
     "output_type": "execute_result"
    },
    {
     "data": {
      "image/png": "[encoded data removed]",
      "text/plain": [
       "<Figure size 432x288 with 1 Axes>"
      ]
     },
     "metadata": {
      "needs_background": "light"
     },
     "output_type": "display_data"
    }
   ],
   "source": [
    "np.set_printoptions(linewidth=200)\n",
    "plt.imshow(training_images[6])"
   ]
  },
  {
   "cell_type": "code",
   "execution_count": 5,
   "id": "smoking-freeze",
   "metadata": {},
   "outputs": [],
   "source": [
    "training_images = training_images/255.0\n",
    "test_images= test_images / 255.0\n"
   ]
  },
  {
   "cell_type": "code",
   "execution_count": 6,
   "id": "international-flooring",
   "metadata": {},
   "outputs": [],
   "source": [
    "# designing the model\n",
    "model = tf.keras.Sequential([\n",
    "    tf.keras.layers.Flatten(),\n",
    "    tf.keras.layers.Dense(128, activation = 'relu'),\n",
    "    tf.keras.layers.Dense(10, activation = 'softmax')  #tf.nn.softmax\n",
    "])"
   ]
  },
  {
   "cell_type": "code",
   "execution_count": 7,
   "id": "circular-style",
   "metadata": {},
   "outputs": [
    {
     "name": "stdout",
     "output_type": "stream",
     "text": [
      "Epoch 1/10\n",
      "1875/1875 [==============================] - 5s 3ms/step - loss: 0.5002 - accuracy: 0.8257\n",
      "Epoch 2/10\n",
      "1875/1875 [==============================] - 4s 2ms/step - loss: 0.3751 - accuracy: 0.8651\n",
      "Epoch 3/10\n",
      "1875/1875 [==============================] - 5s 3ms/step - loss: 0.3391 - accuracy: 0.8758\n",
      "Epoch 4/10\n",
      "1875/1875 [==============================] - 5s 2ms/step - loss: 0.3135 - accuracy: 0.8850\n",
      "Epoch 5/10\n",
      "1875/1875 [==============================] - 4s 2ms/step - loss: 0.2957 - accuracy: 0.8904\n",
      "Epoch 6/10\n",
      "1875/1875 [==============================] - 4s 2ms/step - loss: 0.2801 - accuracy: 0.8962\n",
      "Epoch 7/10\n",
      "1875/1875 [==============================] - 5s 3ms/step - loss: 0.2705 - accuracy: 0.8998\n",
      "Epoch 8/10\n",
      "1875/1875 [==============================] - 5s 3ms/step - loss: 0.2561 - accuracy: 0.9048\n",
      "Epoch 9/10\n",
      "1875/1875 [==============================] - 4s 2ms/step - loss: 0.2456 - accuracy: 0.9085\n",
      "Epoch 10/10\n",
      "1875/1875 [==============================] - 4s 2ms/step - loss: 0.2401 - accuracy: 0.9107\n"
     ]
    },
    {
     "data": {
      "text/plain": [
       "<tensorflow.python.keras.callbacks.History at 0x1ecd16386a0>"
      ]
     },
     "execution_count": 7,
     "metadata": {},
     "output_type": "execute_result"
    }
   ],
   "source": [
    "model.compile(optimizer=\"Adam\" , loss = 'sparse_categorical_crossentropy', metrics=['accuracy'])\n",
    "model.fit(training_images, training_labels, epochs=10)"
   ]
  },
  {
   "cell_type": "code",
   "execution_count": 8,
   "id": "indoor-remark",
   "metadata": {},
   "outputs": [
    {
     "name": "stdout",
     "output_type": "stream",
     "text": [
      "313/313 [==============================] - 0s 2ms/step - loss: 0.3265 - accuracy: 0.8850\n"
     ]
    },
    {
     "data": {
      "text/plain": [
       "[0.3264952003955841, 0.8849999904632568]"
      ]
     },
     "execution_count": 8,
     "metadata": {},
     "output_type": "execute_result"
    }
   ],
   "source": [
    "model.evaluate(test_images, test_labels)"
   ]
  },
  {
   "cell_type": "code",
   "execution_count": 9,
   "id": "cardiac-registrar",
   "metadata": {},
   "outputs": [
    {
     "data": {
      "text/plain": [
       "array([2.8068042e-08, 9.9999380e-01, 5.0826423e-11, 6.0553989e-06, 3.4562959e-08, 5.1528122e-16, 1.0159761e-07, 7.9251399e-21, 5.1582728e-11, 1.3671893e-15], dtype=float32)"
      ]
     },
     "execution_count": 9,
     "metadata": {},
     "output_type": "execute_result"
    }
   ],
   "source": [
    "classification = model.predict(test_images)\n",
    "classification[3]"
   ]
  },
  {
   "cell_type": "code",
   "execution_count": 10,
   "id": "juvenile-mirror",
   "metadata": {},
   "outputs": [
    {
     "data": {
      "text/plain": [
       "1"
      ]
     },
     "execution_count": 10,
     "metadata": {},
     "output_type": "execute_result"
    }
   ],
   "source": [
    "test_labels[3]"
   ]
  },
  {
   "cell_type": "code",
   "execution_count": 11,
   "id": "suburban-large",
   "metadata": {},
   "outputs": [
    {
     "name": "stdout",
     "output_type": "stream",
     "text": [
      "0.9999938\n",
      "1\n"
     ]
    },
    {
     "data": {
      "text/plain": [
       "<matplotlib.image.AxesImage at 0x1ecd3993b80>"
      ]
     },
     "execution_count": 11,
     "metadata": {},
     "output_type": "execute_result"
    },
    {
     "data": {
      "image/png": "[encoded data removed]",
      "text/plain": [
       "<Figure size 432x288 with 1 Axes>"
      ]
     },
     "metadata": {
      "needs_background": "light"
     },
     "output_type": "display_data"
    }
   ],
   "source": [
    "print(np.amax(model.predict(test_images)[3]))\n",
    "print(test_labels[3])\n",
    "plt.imshow(test_images[3])\n"
   ]
  },
  {
   "cell_type": "code",
   "execution_count": 12,
   "id": "opposite-klein",
   "metadata": {},
   "outputs": [],
   "source": [
    "mnist = tf.keras.datasets.mnist"
   ]
  },
  {
   "cell_type": "code",
   "execution_count": 13,
   "id": "ongoing-spice",
   "metadata": {},
   "outputs": [],
   "source": [
    "import time "
   ]
  },
  {
   "cell_type": "code",
   "execution_count": null,
   "id": "residential-thong",
   "metadata": {},
   "outputs": [],
   "source": []
  },
  {
   "cell_type": "code",
   "execution_count": 14,
   "id": "respective-implement",
   "metadata": {},
   "outputs": [
    {
     "name": "stdout",
     "output_type": "stream",
     "text": [
      "Epoch 1/4\n",
      "1875/1875 [==============================] - 20s 11ms/step - loss: 0.1839 - accuracy: 0.9455 - mse: 27.3844\n",
      "Epoch 2/4\n",
      "1875/1875 [==============================] - 19s 10ms/step - loss: 0.0760 - accuracy: 0.9764 - mse: 27.3905\n",
      "Epoch 3/4\n",
      "1875/1875 [==============================] - 19s 10ms/step - loss: 0.0484 - accuracy: 0.9846 - mse: 27.3918\n",
      "Epoch 4/4\n",
      "1875/1875 [==============================] - 20s 10ms/step - loss: 0.0357 - accuracy: 0.9885 - mse: 27.3926 4s - loss: 0.0345 - accuracy: - ETA: 3s - loss: 0.0342 - accuracy: 0 - ETA: 2s - loss: \n"
     ]
    },
    {
     "data": {
      "text/plain": [
       "<tensorflow.python.keras.callbacks.History at 0x1ecd39bdca0>"
      ]
     },
     "execution_count": 14,
     "metadata": {},
     "output_type": "execute_result"
    }
   ],
   "source": [
    "# the second model. it is called model 2\n",
    "(training_images, training_labels), (test_images, test_labels) = mnist.load_data()\n",
    "training_images = training_images/255.0\n",
    "test_images = test_images /255.0\n",
    "\n",
    "model2 = tf.keras.Sequential([\n",
    "    tf.keras.layers.Flatten(),\n",
    "    tf.keras.layers.Dense(1024, activation = 'relu'),\n",
    "    tf.keras.layers.Dense(10,  activation = 'softmax')\n",
    "])\n",
    "\n",
    "model2.compile(optimizer ='adam', loss = 'sparse_categorical_crossentropy', metrics = ['accuracy','mse'])\n",
    "model2.fit(training_images, training_labels , epochs = 4)"
   ]
  },
  {
   "cell_type": "code",
   "execution_count": 17,
   "id": "norman-occasions",
   "metadata": {},
   "outputs": [
    {
     "name": "stdout",
     "output_type": "stream",
     "text": [
      "Epoch 1/5\n",
      "1875/1875 [==============================] - 5s 3ms/step - loss: 2.3361 - accuracy: 0.1035 - mse: 28.1731\n",
      "Epoch 2/5\n",
      "1875/1875 [==============================] - 5s 3ms/step - loss: 2.3005 - accuracy: 0.0987 - mse: 28.1853\n",
      "Epoch 3/5\n",
      "1875/1875 [==============================] - 5s 3ms/step - loss: 2.3026 - accuracy: 0.0987 - mse: 28.1853\n",
      "Epoch 4/5\n",
      "1875/1875 [==============================] - 5s 3ms/step - loss: 2.3026 - accuracy: 0.0987 - mse: 28.1853\n",
      "Epoch 5/5\n",
      "1875/1875 [==============================] - 5s 3ms/step - loss: 2.3026 - accuracy: 0.0987 - mse: 28.1853\n",
      "313/313 [==============================] - 1s 2ms/step - loss: 2.3026 - accuracy: 0.0980 - mse: 28.1290\n"
     ]
    },
    {
     "data": {
      "text/plain": [
       "[2.30259108543396, 0.09799999743700027, 28.128999710083008]"
      ]
     },
     "execution_count": 17,
     "metadata": {},
     "output_type": "execute_result"
    }
   ],
   "source": [
    "class MyCallbacks(tf.keras.callbacks.Callback):\n",
    "    def on_epoch_end(self, epoch, logs={}):\n",
    "        if (logs.get('loss')<0.05):\n",
    "            print('Training reached more an accuracy of 95% . Cancelling the traing')\n",
    "            self.model.stop_training = True\n",
    "            \n",
    "callback = MyCallbacks()\n",
    "model3 = tf.keras.Sequential([\n",
    "    tf.keras.layers.Flatten(),\n",
    "    tf.keras.layers.Dense(128 , activation = 'relu'),\n",
    "    tf.keras.layers.Dense(128,activation = 'relu'),\n",
    "    tf.keras.layers.Dense(10 , activation = 'relu')\n",
    "])\n",
    "\n",
    "model3.compile(optimizer ='adam', loss = 'sparse_categorical_crossentropy', metrics = ['accuracy','mse'])\n",
    "\n",
    "\n",
    "\n",
    "model3.fit(training_images, training_labels, epochs=5 , callbacks=[callback])\n",
    "model3.evaluate(test_images, test_labels)"
   ]
  },
  {
   "cell_type": "code",
   "execution_count": 18,
   "id": "bearing-nirvana",
   "metadata": {},
   "outputs": [
    {
     "name": "stdout",
     "output_type": "stream",
     "text": [
      "Epoch 1/10\n",
      "1859/1875 [============================>.] - ETA: 0s - loss: 0.3522 - accuracy: 0.9023Cancelling traing ,Training reached an accuracy of 50%\n",
      "1875/1875 [==============================] - 4s 2ms/step - loss: 0.3507 - accuracy: 0.9026\n"
     ]
    },
    {
     "data": {
      "text/plain": [
       "<tensorflow.python.keras.callbacks.History at 0x1ecfa632490>"
      ]
     },
     "execution_count": 18,
     "metadata": {},
     "output_type": "execute_result"
    }
   ],
   "source": [
    "class MyCallbacks(tf.keras.callbacks.Callback):\n",
    "    def on_epoch_end(self, epoch , logs = {}):\n",
    "        if (logs.get('loss')<0.5):\n",
    "            print('Cancelling traing ,Training reached an accuracy of 50%')\n",
    "            self.model.stop_training = True\n",
    "            \n",
    "callback = MyCallbacks()\n",
    "model_6 = tf.keras.Sequential([\n",
    "    tf.keras.layers.Flatten(),\n",
    "    tf.keras.layers.Dense(128, activation = 'relu'),\n",
    "    tf.keras.layers.Dense(10,activation = 'softmax')\n",
    "])\n",
    "model.compile(optimizer='adam', loss = 'sparse_categorical_crossentropy',metrics=['accuracy'])\n",
    "model.fit(training_images, training_labels, epochs=10,callbacks=[callback])"
   ]
  },
  {
   "cell_type": "code",
   "execution_count": 3,
   "id": "18cf829a",
   "metadata": {},
   "outputs": [
    {
     "ename": "NameError",
     "evalue": "name 'logs' is not defined",
     "output_type": "error",
     "traceback": [
      "\u001b[1;31m---------------------------------------------------------------------------\u001b[0m",
      "\u001b[1;31mNameError\u001b[0m                                 Traceback (most recent call last)",
      "\u001b[1;32m<ipython-input-3-03ba4562a15f>\u001b[0m in \u001b[0;36m<module>\u001b[1;34m\u001b[0m\n\u001b[1;32m----> 1\u001b[1;33m \u001b[0mlogs\u001b[0m\u001b[1;33m\u001b[0m\u001b[1;33m\u001b[0m\u001b[0m\n\u001b[0m",
      "\u001b[1;31mNameError\u001b[0m: name 'logs' is not defined"
     ]
    }
   ],
   "source": [
    "kljk;;;;;;;;;;;;;;"
   ]
  },
  {
   "cell_type": "code",
   "execution_count": null,
   "id": "215763de",
   "metadata": {},
   "outputs": [],
   "source": []
  }
 ],
 "metadata": {
  "kernelspec": {
   "display_name": "Python 3",
   "language": "python",
   "name": "python3"
  },
  "language_info": {
   "codemirror_mode": {
    "name": "ipython",
    "version": 3
   },
   "file_extension": ".py",
   "mimetype": "text/x-python",
   "name": "python",
   "nbconvert_exporter": "python",
   "pygments_lexer": "ipython3",
   "version": "3.8.10"
  }
 },
 "nbformat": 4,
 "nbformat_minor": 5
}
